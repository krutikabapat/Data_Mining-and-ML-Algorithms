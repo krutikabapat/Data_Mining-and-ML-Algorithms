{
 "cells": [
  {
   "cell_type": "code",
   "execution_count": 40,
   "metadata": {},
   "outputs": [],
   "source": [
    "import random \n",
    "import pandas as pd\n",
    "import numpy as np\n",
    "import math\n",
    "import matplotlib.pyplot as plt\n",
    "%matplotlib inline"
   ]
  },
  {
   "cell_type": "code",
   "execution_count": 79,
   "metadata": {},
   "outputs": [],
   "source": [
    "main_dataset = []\n",
    "for x in range(200):\n",
    "    main_dataset.append(random.randint(1,1000))\n",
    "main_dataset = pd.DataFrame(main_dataset)"
   ]
  },
  {
   "cell_type": "code",
   "execution_count": 80,
   "metadata": {},
   "outputs": [
    {
     "name": "stdout",
     "output_type": "stream",
     "text": [
      "8.6440216456\n"
     ]
    }
   ],
   "source": [
    "# Sturge's Rule\n",
    "N = 200\n",
    "K = 1+3.322*math.log(N,10)\n",
    "print(K)"
   ]
  },
  {
   "cell_type": "code",
   "execution_count": 82,
   "metadata": {},
   "outputs": [
    {
     "data": {
      "text/plain": [
       "4.849479814797631"
      ]
     },
     "execution_count": 82,
     "metadata": {},
     "output_type": "execute_result"
    }
   ],
   "source": [
    "std=main_dataset[0].std()\n",
    "std\n",
    "# Scott's Rule\n",
    "bin_width = 3.49*std*math.pow(N,-1/3)\n",
    "bin_width"
   ]
  },
  {
   "cell_type": "code",
   "execution_count": 44,
   "metadata": {},
   "outputs": [
    {
     "data": {
      "text/plain": [
       "2.0"
      ]
     },
     "execution_count": 44,
     "metadata": {},
     "output_type": "execute_result"
    }
   ],
   "source": [
    "# Rice's Rule\n",
    "bin_width_rice=math.pow(N,1/3)*2\n",
    "bin_width_rice"
   ]
  },
  {
   "cell_type": "code",
   "execution_count": 45,
   "metadata": {},
   "outputs": [
    {
     "data": {
      "text/plain": [
       "5.6325"
      ]
     },
     "execution_count": 45,
     "metadata": {},
     "output_type": "execute_result"
    }
   ],
   "source": [
    "#Freedman-Diaconis’s Rule \n",
    "Q1 = main_dataset[0].quantile(0.25)\n",
    "Q3 = main_dataset[0].quantile(0.75)\n",
    "IQR = Q3 - Q1\n",
    "IQR\n",
    "size = 2* IQR* math.pow(N,-1/3)\n",
    "size\n",
    "\n"
   ]
  },
  {
   "cell_type": "code",
   "execution_count": 86,
   "metadata": {},
   "outputs": [
    {
     "data": {
      "text/plain": [
       "0    (3.999, 106.875]\n",
       "1     (237.75, 381.0]\n",
       "2      (833.0, 988.0]\n",
       "3     (237.75, 381.0]\n",
       "4     (490.5, 610.25]\n",
       "Name: 0, dtype: category\n",
       "Categories (8, interval[float64]): [(3.999, 106.875] < (106.875, 237.75] < (237.75, 381.0] < (381.0, 490.5] < (490.5, 610.25] < (610.25, 699.25] < (699.25, 833.0] < (833.0, 988.0]]"
      ]
     },
     "execution_count": 86,
     "metadata": {},
     "output_type": "execute_result"
    }
   ],
   "source": [
    "# Cut into buckets \n",
    "pd.qcut(main_dataset[0], 8).head()"
   ]
  },
  {
   "cell_type": "code",
   "execution_count": 53,
   "metadata": {},
   "outputs": [
    {
     "data": {
      "text/plain": [
       "<matplotlib.axes._subplots.AxesSubplot at 0x7fe6987a9d90>"
      ]
     },
     "execution_count": 53,
     "metadata": {},
     "output_type": "execute_result"
    },
    {
     "data": {
      "text/plain": [
       "<matplotlib.figure.Figure at 0x7fe69889af50>"
      ]
     },
     "metadata": {},
     "output_type": "display_data"
    },
    {
     "data": {
      "image/png": "[encoded data removed]",
      "text/plain": [
       "<matplotlib.figure.Figure at 0x7fe698823f10>"
      ]
     },
     "metadata": {},
     "output_type": "display_data"
    }
   ],
   "source": [
    "plt.figure()\n",
    "main_dataset.plot.hist(stacked=True, bins=9, edgecolor='black', linewidth=1.2)"
   ]
  },
  {
   "cell_type": "code",
   "execution_count": 54,
   "metadata": {},
   "outputs": [
    {
     "data": {
      "text/plain": [
       "<matplotlib.axes._subplots.AxesSubplot at 0x7fe69869c3d0>"
      ]
     },
     "execution_count": 54,
     "metadata": {},
     "output_type": "execute_result"
    },
    {
     "data": {
      "text/plain": [
       "<matplotlib.figure.Figure at 0x7fe69863b3d0>"
      ]
     },
     "metadata": {},
     "output_type": "display_data"
    },
    {
     "data": {
      "image/png": "[encoded data removed]",
      "text/plain": [
       "<matplotlib.figure.Figure at 0x7fe69888cb10>"
      ]
     },
     "metadata": {},
     "output_type": "display_data"
    }
   ],
   "source": [
    "plt.figure()\n",
    "main_dataset.plot.hist(stacked=True,  edgecolor='black', linewidth=1.2)"
   ]
  },
  {
   "cell_type": "code",
   "execution_count": null,
   "metadata": {
    "collapsed": true
   },
   "outputs": [],
   "source": [
    "\n",
    "\n"
   ]
  },
  {
   "cell_type": "code",
   "execution_count": 75,
   "metadata": {},
   "outputs": [
    {
     "data": {
      "text/plain": [
       "0    0.073367\n",
       "1    0.922613\n",
       "2    0.315578\n",
       "3    0.696482\n",
       "4    0.801005\n",
       "Name: 0, dtype: float64"
      ]
     },
     "execution_count": 75,
     "metadata": {},
     "output_type": "execute_result"
    }
   ],
   "source": [
    "# scaling \n",
    "main_dataset[0] = (main_dataset[0]-min(main_dataset[0]))/(max(main_dataset[0])-min(main_dataset[0]))\n",
    "main_dataset[0].head()"
   ]
  },
  {
   "cell_type": "code",
   "execution_count": 77,
   "metadata": {},
   "outputs": [
    {
     "data": {
      "text/plain": [
       "array([[ 1.,  0.],\n",
       "       [ 1.,  0.],\n",
       "       [ 1.,  0.],\n",
       "       [ 1.,  0.],\n",
       "       [ 1.,  0.],\n",
       "       [ 1.,  0.],\n",
       "       [ 1.,  0.],\n",
       "       [ 1.,  0.],\n",
       "       [ 1.,  0.],\n",
       "       [ 1.,  0.],\n",
       "       [ 1.,  0.],\n",
       "       [ 1.,  0.],\n",
       "       [ 1.,  0.],\n",
       "       [ 1.,  0.],\n",
       "       [ 1.,  0.],\n",
       "       [ 1.,  0.],\n",
       "       [ 1.,  0.],\n",
       "       [ 1.,  0.],\n",
       "       [ 1.,  0.],\n",
       "       [ 1.,  0.],\n",
       "       [ 1.,  0.],\n",
       "       [ 1.,  0.],\n",
       "       [ 1.,  0.],\n",
       "       [ 1.,  0.],\n",
       "       [ 1.,  0.],\n",
       "       [ 1.,  0.],\n",
       "       [ 1.,  0.],\n",
       "       [ 1.,  0.],\n",
       "       [ 1.,  0.],\n",
       "       [ 1.,  0.],\n",
       "       [ 1.,  0.],\n",
       "       [ 1.,  0.],\n",
       "       [ 1.,  0.],\n",
       "       [ 1.,  0.],\n",
       "       [ 1.,  0.],\n",
       "       [ 1.,  0.],\n",
       "       [ 1.,  0.],\n",
       "       [ 1.,  0.],\n",
       "       [ 1.,  0.],\n",
       "       [ 1.,  0.],\n",
       "       [ 1.,  0.],\n",
       "       [ 1.,  0.],\n",
       "       [ 1.,  0.],\n",
       "       [ 1.,  0.],\n",
       "       [ 1.,  0.],\n",
       "       [ 1.,  0.],\n",
       "       [ 1.,  0.],\n",
       "       [ 1.,  0.],\n",
       "       [ 1.,  0.],\n",
       "       [ 1.,  0.],\n",
       "       [ 1.,  0.],\n",
       "       [ 1.,  0.],\n",
       "       [ 1.,  0.],\n",
       "       [ 1.,  0.],\n",
       "       [ 1.,  0.],\n",
       "       [ 1.,  0.],\n",
       "       [ 1.,  0.],\n",
       "       [ 1.,  0.],\n",
       "       [ 1.,  0.],\n",
       "       [ 1.,  0.],\n",
       "       [ 1.,  0.],\n",
       "       [ 1.,  0.],\n",
       "       [ 1.,  0.],\n",
       "       [ 1.,  0.],\n",
       "       [ 1.,  0.],\n",
       "       [ 1.,  0.],\n",
       "       [ 1.,  0.],\n",
       "       [ 1.,  0.],\n",
       "       [ 1.,  0.],\n",
       "       [ 1.,  0.],\n",
       "       [ 1.,  0.],\n",
       "       [ 1.,  0.],\n",
       "       [ 1.,  0.],\n",
       "       [ 1.,  0.],\n",
       "       [ 1.,  0.],\n",
       "       [ 1.,  0.],\n",
       "       [ 1.,  0.],\n",
       "       [ 1.,  0.],\n",
       "       [ 1.,  0.],\n",
       "       [ 1.,  0.],\n",
       "       [ 1.,  0.],\n",
       "       [ 1.,  0.],\n",
       "       [ 1.,  0.],\n",
       "       [ 1.,  0.],\n",
       "       [ 1.,  0.],\n",
       "       [ 1.,  0.],\n",
       "       [ 1.,  0.],\n",
       "       [ 1.,  0.],\n",
       "       [ 0.,  0.],\n",
       "       [ 1.,  0.],\n",
       "       [ 1.,  0.],\n",
       "       [ 1.,  0.],\n",
       "       [ 1.,  0.],\n",
       "       [ 1.,  0.],\n",
       "       [ 1.,  0.],\n",
       "       [ 1.,  0.],\n",
       "       [ 1.,  0.],\n",
       "       [ 1.,  0.],\n",
       "       [ 1.,  0.],\n",
       "       [ 1.,  0.],\n",
       "       [ 1.,  0.],\n",
       "       [ 1.,  0.],\n",
       "       [ 1.,  0.],\n",
       "       [ 1.,  0.],\n",
       "       [ 1.,  0.],\n",
       "       [ 1.,  0.],\n",
       "       [ 1.,  0.],\n",
       "       [ 1.,  0.],\n",
       "       [ 1.,  0.],\n",
       "       [ 1.,  0.],\n",
       "       [ 1.,  0.],\n",
       "       [ 1.,  0.],\n",
       "       [ 1.,  0.],\n",
       "       [ 1.,  0.],\n",
       "       [ 1.,  0.],\n",
       "       [ 1.,  0.],\n",
       "       [ 1.,  0.],\n",
       "       [ 1.,  0.],\n",
       "       [ 1.,  0.],\n",
       "       [ 1.,  0.],\n",
       "       [ 1.,  0.],\n",
       "       [ 1.,  0.],\n",
       "       [ 1.,  0.],\n",
       "       [ 1.,  0.],\n",
       "       [ 1.,  0.],\n",
       "       [ 1.,  0.],\n",
       "       [ 1.,  0.],\n",
       "       [ 1.,  0.],\n",
       "       [ 1.,  0.],\n",
       "       [ 1.,  0.],\n",
       "       [ 1.,  0.],\n",
       "       [ 1.,  0.],\n",
       "       [ 1.,  0.],\n",
       "       [ 1.,  0.],\n",
       "       [ 1.,  0.],\n",
       "       [ 1.,  0.],\n",
       "       [ 1.,  0.],\n",
       "       [ 1.,  0.],\n",
       "       [ 1.,  0.],\n",
       "       [ 1.,  0.],\n",
       "       [ 1.,  0.],\n",
       "       [ 1.,  0.],\n",
       "       [ 1.,  0.],\n",
       "       [ 1.,  0.],\n",
       "       [ 1.,  0.],\n",
       "       [ 1.,  0.],\n",
       "       [ 1.,  0.],\n",
       "       [ 1.,  0.],\n",
       "       [ 1.,  0.],\n",
       "       [ 1.,  0.],\n",
       "       [ 1.,  0.],\n",
       "       [ 1.,  0.],\n",
       "       [ 1.,  0.],\n",
       "       [ 1.,  0.],\n",
       "       [ 1.,  0.],\n",
       "       [ 1.,  0.],\n",
       "       [ 1.,  0.],\n",
       "       [ 1.,  0.],\n",
       "       [ 1.,  0.],\n",
       "       [ 1.,  0.],\n",
       "       [ 1.,  0.],\n",
       "       [ 1.,  0.],\n",
       "       [ 1.,  0.],\n",
       "       [ 1.,  0.],\n",
       "       [ 1.,  0.],\n",
       "       [ 1.,  0.],\n",
       "       [ 1.,  0.],\n",
       "       [ 1.,  0.],\n",
       "       [ 1.,  0.],\n",
       "       [ 1.,  0.],\n",
       "       [ 1.,  0.],\n",
       "       [ 1.,  0.],\n",
       "       [ 1.,  0.],\n",
       "       [ 1.,  0.],\n",
       "       [ 1.,  0.],\n",
       "       [ 1.,  0.],\n",
       "       [ 1.,  0.],\n",
       "       [ 1.,  0.],\n",
       "       [ 1.,  0.],\n",
       "       [ 1.,  0.],\n",
       "       [ 1.,  0.],\n",
       "       [ 1.,  0.],\n",
       "       [ 1.,  0.],\n",
       "       [ 1.,  0.],\n",
       "       [ 1.,  0.],\n",
       "       [ 1.,  0.],\n",
       "       [ 1.,  0.],\n",
       "       [ 1.,  0.],\n",
       "       [ 1.,  0.],\n",
       "       [ 1.,  0.],\n",
       "       [ 1.,  0.],\n",
       "       [ 1.,  0.],\n",
       "       [ 1.,  0.],\n",
       "       [ 1.,  0.],\n",
       "       [ 1.,  0.],\n",
       "       [ 1.,  0.],\n",
       "       [ 1.,  0.],\n",
       "       [ 1.,  0.],\n",
       "       [ 1.,  0.],\n",
       "       [ 1.,  0.]])"
      ]
     },
     "execution_count": 77,
     "metadata": {},
     "output_type": "execute_result"
    }
   ],
   "source": [
    "from sklearn import preprocessing\n",
    "X_normalized = preprocessing.normalize(main_dataset, norm='l2')\n",
    "X_normalized\n"
   ]
  },
  {
   "cell_type": "code",
   "execution_count": 85,
   "metadata": {},
   "outputs": [
    {
     "data": {
      "text/plain": [
       "array([ 10.38617886,  14.77642276,  27.35772358,  15.12195122,\n",
       "        20.12195122,  19.67479675,  21.68699187,  11.91056911,\n",
       "        22.92682927,  12.56097561,  17.82520325,  14.77642276,\n",
       "        17.92682927,  28.80081301,  17.09349593,  12.25609756,\n",
       "        22.94715447,  12.09349593,  27.11382114,  17.13414634,\n",
       "        20.71138211,  19.10569106,  28.25203252,  11.74796748,\n",
       "        27.58130081,  21.17886179,  22.58130081,  14.24796748,\n",
       "        14.3495935 ,  26.30081301,  10.93495935,  16.05691057,\n",
       "        19.08536585,  10.30487805,  10.40650407,  11.58536585,\n",
       "        14.67479675,  18.49593496,  18.23170732,  25.48780488,\n",
       "        11.58536585,  11.46341463,  25.6300813 ,  17.72357724,\n",
       "        15.93495935,  16.01626016,  23.00813008,  14.77642276,\n",
       "        28.33333333,  21.07723577,  22.86585366,  23.04878049,\n",
       "        29.26829268,  19.12601626,  23.06910569,  18.84146341,\n",
       "        26.48373984,  25.16260163,  18.55691057,  18.29268293,\n",
       "        23.65853659,  12.29674797,  29.9796748 ,  11.60569106,\n",
       "        23.1504065 ,  10.08130081,  11.99186992,  17.56097561,\n",
       "        24.91869919,  14.12601626,  10.91463415,  18.1097561 ,\n",
       "        19.47154472,  12.29674797,  20.54878049,  12.58130081,\n",
       "        10.        ,  13.06910569,  17.39837398,  25.75203252,\n",
       "        22.74390244,  21.91056911,  11.99186992,  24.79674797,\n",
       "        17.21544715,  22.01219512,  12.17479675,  19.75609756,\n",
       "        23.37398374,  18.82113821,  29.87804878,  21.2601626 ,\n",
       "        24.87804878,  19.18699187,  27.33739837,  28.7398374 ,\n",
       "        25.85365854,  23.37398374,  24.14634146,  13.59756098,\n",
       "        21.95121951,  15.20325203,  26.82926829,  20.06097561,\n",
       "        23.84146341,  24.12601626,  11.66666667,  20.0203252 ,\n",
       "        23.02845528,  20.56910569,  27.41869919,  19.43089431,\n",
       "        27.74390244,  25.44715447,  25.24390244,  20.22357724,\n",
       "        16.17886179,  11.05691057,  10.85365854,  15.93495935,\n",
       "        19.32926829,  15.85365854,  18.27235772,  20.93495935,\n",
       "        20.81300813,  12.64227642,  14.57317073,  14.47154472,\n",
       "        25.79268293,  10.14227642,  23.21138211,  20.93495935,\n",
       "        29.55284553,  17.43902439,  28.25203252,  15.91463415,\n",
       "        17.29674797,  27.25609756,  12.07317073,  29.02439024,\n",
       "        10.        ,  11.48373984,  14.49186992,  16.07723577,\n",
       "        22.27642276,  18.47560976,  23.08943089,  22.90650407,\n",
       "        19.3699187 ,  21.17886179,  21.01626016,  13.31300813,\n",
       "        27.78455285,  25.18292683,  20.6504065 ,  13.41463415,\n",
       "        23.7195122 ,  22.25609756,  11.78861789,  18.08943089,\n",
       "        24.69512195,  22.39837398,  26.17886179,  19.65447154,\n",
       "        13.06910569,  14.53252033,  28.00813008,  25.75203252,\n",
       "        16.64634146,  24.53252033,  26.09756098,  29.75609756,\n",
       "        13.23170732,  15.        ,  12.05284553,  28.04878049,\n",
       "        25.38617886,  23.31300813,  25.12195122,  13.1097561 ,\n",
       "        21.2398374 ,  25.54878049,  29.9796748 ,  20.10162602,\n",
       "        15.16260163,  17.56097561,  22.41869919,  23.21138211,\n",
       "        12.74390244,  13.1300813 ,  20.32520325,  26.70731707,\n",
       "        17.19512195,  23.49593496,  18.47560976,  26.99186992,\n",
       "        22.54065041,  28.19105691,  11.93089431,  30.        ])"
      ]
     },
     "execution_count": 85,
     "metadata": {},
     "output_type": "execute_result"
    }
   ],
   "source": [
    "np.interp(main_dataset[0], (main_dataset[0].min(), main_dataset[0].max()), (10, 30))"
   ]
  },
  {
   "cell_type": "code",
   "execution_count": null,
   "metadata": {
    "collapsed": true
   },
   "outputs": [],
   "source": []
  }
 ],
 "metadata": {
  "kernelspec": {
   "display_name": "Python 2",
   "language": "python",
   "name": "python2"
  },
  "language_info": {
   "codemirror_mode": {
    "name": "ipython",
    "version": 2
   },
   "file_extension": ".py",
   "mimetype": "text/x-python",
   "name": "python",
   "nbconvert_exporter": "python",
   "pygments_lexer": "ipython2",
   "version": "2.7.13"
  }
 },
 "nbformat": 4,
 "nbformat_minor": 2
}
